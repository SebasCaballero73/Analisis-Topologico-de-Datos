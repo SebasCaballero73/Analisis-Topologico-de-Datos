{
 "cells": [
  {
   "cell_type": "code",
   "execution_count": 1,
   "metadata": {},
   "outputs": [],
   "source": [
    "# Librerias necesarias\n",
    "from matplotlib import pyplot as plt\n",
    "from scipy.cluster.hierarchy import dendrogram, linkage\n",
    "from scipy.spatial.distance import pdist, squareform\n",
    "import numpy as np\n",
    "import heapq\n",
    "\n",
    "# Constantes quimicas. Peso de cada elemento\n",
    "M_H = 1.01\n",
    "M_C = 12.01\n",
    "M_N = 14.05\n",
    "M_O = 15.99\n",
    "\n",
    "# Funciones para determinar el coeficiente del coseno y centroides\n",
    "def cosine_similarity(v1, v2):\n",
    "    return np.dot(v1, v2) / (np.linalg.norm(v1) * np.linalg.norm(v2))\n",
    "\n",
    "def centroid(cluster):\n",
    "    return np.mean(cluster, axis=0)"
   ]
  },
  {
   "cell_type": "code",
   "execution_count": 2,
   "metadata": {},
   "outputs": [],
   "source": [
    "# Datos originales\n",
    "original_data = {\n",
    "    \"Amoniaco\": {\"H\": 3, \"N\": 1, \"C\": 0, \"O\": 0, \"K_b\": 1.8e-05},\n",
    "    \"Anilina\": {\"H\": 7, \"N\": 1, \"C\": 6, \"O\": 0, \"K_b\": 4.3e-10},\n",
    "    \"Dimetilamina\": {\"H\": 7, \"N\": 1, \"C\": 2, \"O\": 0, \"K_b\": 5.4e-4},\n",
    "    \"Etilamina\": {\"H\": 7, \"N\": 1, \"C\": 2, \"O\": 0, \"K_b\": 6.4e-4},\n",
    "    \"Hidracina\": {\"H\": 4, \"N\": 2, \"C\": 0, \"O\": 0, \"K_b\": 1.3e-6},\n",
    "    \"Hidroxilamina\": {\"H\": 3, \"N\": 1, \"C\": 0, \"O\": 1, \"K_b\": 1.1e-08},\n",
    "    \"Metilamina\": {\"H\": 5, \"N\": 1, \"C\": 1, \"O\": 0, \"K_b\": 4.4e-4},\n",
    "    \"Piridina\": {\"H\": 5, \"N\": 1, \"C\": 5, \"O\": 0, \"K_b\": 1.7e-09},\n",
    "    \"Trimetilamina\": {\"H\": 9, \"N\": 1, \"C\": 3, \"O\": 0, \"K_b\": 6.4e-05},\n",
    "}\n",
    "\n",
    "# Limpieza, codificación y estadanrización de datos\n",
    "codifing = dict()\n",
    "data_list = []\n",
    "for compuesto  in original_data:\n",
    "    el = original_data[compuesto]\n",
    "    peso = M_H * el[\"H\"] + M_N * el[\"N\"] + M_C * el[\"C\"] + M_O * el[\"O\"]\n",
    "    info = [\n",
    "        el[\"K_b\"], M_C*el[\"C\"] / peso, M_H*el[\"H\"] / peso, M_O*el[\"O\"] / peso, M_N*el[\"N\"] / peso, peso, compuesto\n",
    "    ]\n",
    "    data_list.append(info)\n",
    "\n",
    "min_t = [data_list[0][i] for i in range(len(data_list[0])-1)]\n",
    "max_t = [data_list[0][i] for i in range(len(data_list[0])-1)]\n",
    "for i in range(len(data_list[1])-1):\n",
    "    for j in range(len(data_list)):\n",
    "        min_t[i] = min(min_t[i], data_list[j][i])\n",
    "        max_t[i] = max(max_t[i],data_list[j][i])\n",
    "for i in range(len(min_t)):\n",
    "    for j in range(len(data_list)):\n",
    "        data_list[j][i] = (data_list[j][i] - min_t[i])/(max_t[i]-min_t[i])\n",
    "\n",
    "data_list.sort(key=lambda x: x[0])\n",
    "data_list_2 = []\n",
    "for i in range(len(data_list)):\n",
    "    codifing[tuple(data_list[i][:-1])] = [data_list[i][-1], i]\n",
    "    data_list_2.append(data_list[i][:-1])\n",
    "\n",
    "data = np.array(data_list_2)"
   ]
  },
  {
   "cell_type": "code",
   "execution_count": 3,
   "metadata": {},
   "outputs": [],
   "source": [
    "# Generar la matriz Z descrita en scipy.cluster.hierarchy.linkage\n",
    "def Matrix_Z(data):\n",
    "    clusters = []\n",
    "    for i in range(data.shape[0]):\n",
    "        clusters.append([data[i]])\n",
    "    vis = [False] * len(2*clusters)\n",
    "    Z = []\n",
    "    heap = []\n",
    "    for i in range(len(data)):\n",
    "        for j in range(i+1, len(data)):\n",
    "            sim = cosine_similarity(data[i], data[j])\n",
    "            heapq.heappush(heap, (sim, i, j))\n",
    "\n",
    "    for it in range(len(data)-1):\n",
    "        v = heapq.heappop(heap)\n",
    "        while(vis[v[1]] or vis[v[2]]):\n",
    "            v = heapq.heappop(heap)\n",
    "\n",
    "        vis[v[1]] =True\n",
    "        vis[v[2]] = True\n",
    "\n",
    "        new_cluster = clusters[v[1]] + clusters[v[2]]\n",
    "        index = len(clusters)\n",
    "        cc = centroid(new_cluster)\n",
    "\n",
    "        clusters.append(new_cluster)\n",
    "        Z.append([v[1], v[2], v[0], len(new_cluster)])\n",
    "        for i in range(len(clusters)-1):\n",
    "            if not vis[i]:\n",
    "                sim = cosine_similarity(cc, centroid(clusters[i]))\n",
    "                heapq.heappush(heap, (sim, i, index))\n",
    "\n",
    "    return np.array(Z)"
   ]
  },
  {
   "cell_type": "code",
   "execution_count": 4,
   "metadata": {},
   "outputs": [
    {
     "data": {
      "image/png": "[encoded data removed]",
      "text/plain": [
       "<Figure size 640x480 with 1 Axes>"
      ]
     },
     "metadata": {},
     "output_type": "display_data"
    }
   ],
   "source": [
    "# Aplicar a los datos la clusterización y generar el dendograma \n",
    "Z = Matrix_Z(data)\n",
    "dn = dendrogram(Z)\n",
    "plt.show()"
   ]
  }
 ],
 "metadata": {
  "kernelspec": {
   "display_name": "Python 3",
   "language": "python",
   "name": "python3"
  },
  "language_info": {
   "codemirror_mode": {
    "name": "ipython",
    "version": 3
   },
   "file_extension": ".py",
   "mimetype": "text/x-python",
   "name": "python",
   "nbconvert_exporter": "python",
   "pygments_lexer": "ipython3",
   "version": "3.12.3"
  }
 },
 "nbformat": 4,
 "nbformat_minor": 2
}
